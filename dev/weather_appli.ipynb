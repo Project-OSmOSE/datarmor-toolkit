{
 "cells": [
  {
   "cell_type": "markdown",
   "metadata": {},
   "source": [
    "# PREAMBULE\n",
    "\n",
    "- all calculations are done in your jupyter hub sessions so be sure to use sufficient computational ressources : we highly recommend to use the Jupyter lab 28CPU-115GB"
   ]
  },
  {
   "cell_type": "code",
   "execution_count": 1,
   "metadata": {},
   "outputs": [],
   "source": [
    "from OSmOSE.Weather import Weather, benchmark_weather\n",
    "\n",
    "path_osmose_dataset = \"/home/datawork-osmose/dataset/\"\n",
    "path_osmose_home = \"/home/datawork-osmose/\""
   ]
  },
  {
   "cell_type": "code",
   "execution_count": 2,
   "metadata": {},
   "outputs": [],
   "source": [
    "dataset_name = \"boussole_MERMAID\"\n",
    "\n",
    "campaign_name = \"\""
   ]
  },
  {
   "cell_type": "code",
   "execution_count": 3,
   "metadata": {},
   "outputs": [],
   "source": [
    "time_resolution_welch = 60\n",
    "sample_rate_welch = 50000\n",
    "\n",
    "appli_weather = Weather(\n",
    "    path_osmose_dataset + campaign_name,\n",
    "    dataset_name,\n",
    "    time_resolution_welch,\n",
    "    sample_rate_welch,\n",
    ")"
   ]
  },
  {
   "cell_type": "markdown",
   "metadata": {},
   "source": [
    "### Add your acoustic features to `aux_data.csv`"
   ]
  },
  {
   "cell_type": "code",
   "execution_count": 4,
   "metadata": {},
   "outputs": [],
   "source": [
    "# appli_weather.append_SPL_filtered(freq_min=7500,freq_max=8500)"
   ]
  },
  {
   "cell_type": "markdown",
   "metadata": {},
   "source": [
    "### Perform wind speed model training and estimation"
   ]
  },
  {
   "cell_type": "code",
   "execution_count": 5,
   "metadata": {},
   "outputs": [
    {
     "name": "stdout",
     "output_type": "stream",
     "text": [
      "Saving figure /home/datawork-osmose/dataset/boussole_MERMAID/appli/weather/scatter_wind_model.png\n",
      "Saving figure /home/datawork-osmose/dataset/boussole_MERMAID/appli/weather/scatter_ecmwf_model.png\n",
      "Saving figure /home/datawork-osmose/dataset/boussole_MERMAID/appli/weather/temporal_ecmwf_model.png\n"
     ]
    }
   ],
   "source": [
    "appli_weather.wind_speed_estimation()"
   ]
  },
  {
   "cell_type": "markdown",
   "metadata": {},
   "source": [
    "### Comparison between polynomial wind speed models"
   ]
  },
  {
   "cell_type": "code",
   "execution_count": 6,
   "metadata": {},
   "outputs": [
    {
     "name": "stdout",
     "output_type": "stream",
     "text": [
      "Polynom coefs:\n",
      "- SES/ml17_280a  :  9.584 / -0.480 / -0.014\n",
      "- boussole_MERMAID  :  10.808 / 0.443 / -0.004\n"
     ]
    }
   ],
   "source": [
    "dataset_list = [\"SES/ml17_280a\", \"boussole_MERMAID\"]\n",
    "\n",
    "benchmark_weather = benchmark_weather(path_osmose_dataset + campaign_name, dataset_list)\n",
    "\n",
    "benchmark_weather.compare_wind_speed_models()"
   ]
  }
 ],
 "metadata": {
  "kernelspec": {
   "display_name": "Python [conda env:osmose_dev_dcazau]",
   "language": "python",
   "name": "conda-env-osmose_dev_dcazau-py"
  },
  "language_info": {
   "codemirror_mode": {
    "name": "ipython",
    "version": 3
   },
   "file_extension": ".py",
   "mimetype": "text/x-python",
   "name": "python",
   "nbconvert_exporter": "python",
   "pygments_lexer": "ipython3",
   "version": "3.10.12"
  },
  "vscode": {
   "interpreter": {
    "hash": "038fb172a99c9b7ee7474e984b9ff4962ea47b0ef555bcc216ed798a8387f59b"
   }
  }
 },
 "nbformat": 4,
 "nbformat_minor": 4
}
