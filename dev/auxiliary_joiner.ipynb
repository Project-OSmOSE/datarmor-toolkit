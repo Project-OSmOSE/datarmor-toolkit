{
 "cells": [
  {
   "cell_type": "markdown",
   "metadata": {},
   "source": [
    "# PREAMBULE\n",
    "\n",
    "- all soundscape figures computed here will first need a complete generation of your spectrograms, ie npz files should be present in subfolders in `/home/datawork-osmose/dataset/dataset_name/processed/welch/`, if this is not the case please first use the notebook `spectrogram_generator` ;\n",
    "- all calculations are done in your jupyter hub sessions so be sure to use sufficient computational ressources : we highly recommend to use the Jupyter lab 28CPU-115GB"
   ]
  },
  {
   "cell_type": "code",
   "execution_count": 3,
   "metadata": {},
   "outputs": [],
   "source": [
    "from OSmOSE.Auxiliary import Auxiliary\n",
    "from os import umask\n",
    "\n",
    "umask(0o002)\n",
    "\n",
    "path_osmose_dataset = \"/home/datawork-osmose/dataset/\"\n",
    "path_osmose_home = \"/home/datawork-osmose/\""
   ]
  },
  {
   "cell_type": "markdown",
   "metadata": {},
   "source": [
    "If your dataset is part of a recording campaign, please provide its name with `campaign_name` ; in that case your dataset should be present in `home/datawork-osmose/dataset/{campaign_name}/{dataset_name}`. Otherwise let the default value `campaign_name = \"\"`."
   ]
  },
  {
   "cell_type": "code",
   "execution_count": 4,
   "metadata": {},
   "outputs": [],
   "source": [
    "dataset_name = \"boussole_MERMAID\"\n",
    "\n",
    "campaign_name = \"\"\n",
    "\n",
    "date_template = \"%Y%m%d_%H%M%S\"  # strftime format, used to build the dataset from scratch (ignore if the dataset is already built)"
   ]
  },
  {
   "cell_type": "markdown",
   "metadata": {},
   "source": [
    "# Joining to welch\n",
    "\n",
    "A first joining will be made between your gps coordinates and welch spectra. You need to have npz welch files in `./processed/welch/*time_resolution_welch*` ; `time_resolution_welch` must be defined in the cell below. If you do not have welch, you need to first run the notebook `spectrogram_generator.ipynb`."
   ]
  },
  {
   "cell_type": "code",
   "execution_count": 5,
   "metadata": {},
   "outputs": [],
   "source": [
    "time_resolution_welch = 60\n",
    "sample_rate_welch = 50000\n",
    "\n",
    "joiner_aux = Auxiliary(\n",
    "    path_osmose_dataset + campaign_name,\n",
    "    dataset_name,\n",
    "    time_resolution_welch,\n",
    "    sample_rate_welch,\n",
    "    date_template=date_template,\n",
    ")"
   ]
  },
  {
   "cell_type": "code",
   "execution_count": 6,
   "metadata": {},
   "outputs": [
    {
     "name": "stderr",
     "output_type": "stream",
     "text": [
      "/home/datawork-osmose/osmose_toolkit_dcazau/osmose-toolkit/src/OSmOSE/Auxiliary.py:272: FutureWarning: iteritems is deprecated and will be removed in a future version. Use .items instead.\n",
      "  for name, column in self.df.iteritems():\n"
     ]
    }
   ],
   "source": [
    "joiner_aux.join_welch()"
   ]
  },
  {
   "cell_type": "markdown",
   "metadata": {},
   "source": [
    "# Joining to ERA data\n",
    "\n",
    "The method `join_era` below will join your [ERA](https://cds.climate.copernicus.eu/cdsapp#!/dataset/reanalysis-era5-single-levels?tab=overview) data with your GPS track. Your ERA data (ie all individual files with extensions `.nc` and `.npy`) must be placed in `./data/auxiliary/environment/era/` (create this folder if not present). If not already done, you can download them using this [workspace](https://drive.google.com/drive/folders/1QtNjUo1EaGEKSs4BY_E9iRUSWAlw4bOs?usp=drive_link) on google collab."
   ]
  },
  {
   "cell_type": "code",
   "execution_count": 9,
   "metadata": {},
   "outputs": [
    {
     "name": "stdout",
     "output_type": "stream",
     "text": [
      "Joining ERA5 data using the interpolation method.\n",
      "Loading ml17_280a.nc file...\n"
     ]
    },
    {
     "name": "stderr",
     "output_type": "stream",
     "text": [
      "Loading and formatting wmb: 100%|██████████| 6/6 [00:01<00:00,  3.37it/s]   \n"
     ]
    }
   ],
   "source": [
    "joiner_aux.join_era()"
   ]
  },
  {
   "cell_type": "code",
   "execution_count": 10,
   "metadata": {},
   "outputs": [
    {
     "name": "stdout",
     "output_type": "stream",
     "text": [
      "Generated file /home/datawork-osmose/dataset/SES/ml17_280a/processed/auxiliary/60/aux_data.csv\n"
     ]
    }
   ],
   "source": [
    "joiner_aux.save_aux_data()"
   ]
  }
 ],
 "metadata": {
  "kernelspec": {
   "display_name": "Python [conda env:osmose_dev_dcazau]",
   "language": "python",
   "name": "conda-env-osmose_dev_dcazau-py"
  },
  "language_info": {
   "codemirror_mode": {
    "name": "ipython",
    "version": 3
   },
   "file_extension": ".py",
   "mimetype": "text/x-python",
   "name": "python",
   "nbconvert_exporter": "python",
   "pygments_lexer": "ipython3",
   "version": "3.10.12"
  },
  "vscode": {
   "interpreter": {
    "hash": "038fb172a99c9b7ee7474e984b9ff4962ea47b0ef555bcc216ed798a8387f59b"
   }
  }
 },
 "nbformat": 4,
 "nbformat_minor": 4
}
