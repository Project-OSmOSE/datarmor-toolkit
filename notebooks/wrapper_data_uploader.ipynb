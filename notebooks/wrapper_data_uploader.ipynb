{
 "cells": [
  {
   "cell_type": "markdown",
   "metadata": {},
   "source": [
    "# PREAMBULE\n",
    "\n",
    "#### This notebook follows the sames steps than `data_uploader`, however the present one can treat several dataset at a time\n",
    "\n",
    "Before you can upload your dataset:\n",
    "- adapt `path_osmose_home` which points to OSmOSE working directory ;\n",
    "- choose a dataset name (should not contain any special character, including `-`) ;\n",
    "- create the folder `/home/datawork-osmose/dataset/{dataset_name}` (or `home/datawork-osmose/dataset/{campaign_name}/{dataset_name}` in case of a recording campaign) ;\n",
    "- place in this folder your audio data, it can be individual files or contained within multiple sub-folders ;\n",
    "- if you have any csv files (either a `timestamp.csv` or `*gps*.csv` file) should also be placed in this folder ;\n",
    "\n",
    "**Important notes:**\n",
    "- about timestamps : all timestamps from your original data (from your audio filenames or from your csv files) MUST follow the same timestamp template which should be given in `date_template` ;\n",
    "- about `*gps*.csv` file : this file provides the GPS track (ie latitude and longitude coordinates) of a moving hydrophone. This file must contain the term _gps_ in its filename ;\n",
    "- about auxiliary csv files : they must contain headers with the following standardized names : timestamp , depth , lat , lon"
   ]
  },
  {
   "cell_type": "code",
   "execution_count": null,
   "metadata": {
    "ExecuteTime": {
     "end_time": "2024-04-23T08:30:02.936680Z",
     "start_time": "2024-04-23T08:29:41.355660Z"
    }
   },
   "outputs": [],
   "source": [
    "# FILL IN RED PARTS !\n",
    "from pathlib import Path\n",
    "from OSmOSE import Dataset\n",
    "from OSmOSE.utils.core_utils import display_folder_storage_info, list_not_built_dataset\n",
    "from os import umask\n",
    "\n",
    "umask(0o002)\n",
    "\n",
    "path_osmose_home = \"/home/datawork-osmose/\"\n",
    "path_osmose_dataset = Path(path_osmose_home / \"dataset\")\n",
    "\n",
    "display_folder_storage_info(path_osmose_home)"
   ]
  },
  {
   "cell_type": "code",
   "execution_count": null,
   "metadata": {
    "ExecuteTime": {
     "end_time": "2024-04-23T08:30:03.006059Z",
     "start_time": "2024-04-23T08:30:02.945314Z"
    }
   },
   "outputs": [],
   "source": [
    "# FILL IN RED PART !\n",
    "list_not_built_dataset(path_osmose_dataset / \"dataset/name\")"
   ]
  },
  {
   "cell_type": "markdown",
   "metadata": {},
   "source": [
    "If your dataset is part of a recording campaign, please provide its name with `campaign_name` ; in that case your dataset should be present in `home/datawork-osmose/dataset/{campaign_name}/{dataset_name}`. Otherwise let the default value `campaign_name = \"\"`."
   ]
  },
  {
   "cell_type": "code",
   "execution_count": null,
   "metadata": {
    "ExecuteTime": {
     "end_time": "2024-04-23T08:32:23.882252Z",
     "start_time": "2024-04-23T08:32:23.872168Z"
    }
   },
   "outputs": [],
   "source": [
    "# FILL IN RED PARTS !\n",
    "list_dataset_name = [\n",
    "    \"C5D1_ST7181\",\n",
    "    \"C5D1_ST7194\",\n",
    "    \"C5D2_ST7189\",\n",
    "    \"C5D2_ST7190\",\n",
    "    \"C5D3_ST7189\",\n",
    "    \"C5D3_ST7190\",\n",
    "    \"C5D4_ST7181\",\n",
    "    \"C5D4_ST7194\",\n",
    "    \"C5D5_ST7181\",\n",
    "    \"C5D5_ST7194\",\n",
    "    \"C5D6_ST7189\",\n",
    "    \"C5D6_ST7190\",\n",
    "    \"C5D7_ST7181\",\n",
    "    \"C5D7_ST7194\",\n",
    "    \"C5D8_ST7189\",\n",
    "    \"C5D8_ST7190\",\n",
    "    \"C5D9_ST7181\",\n",
    "    \"C5D9_ST7194\",\n",
    "]\n",
    "\n",
    "list_campaign_name = [\"APOCADO3\"] * len(list_dataset_name)"
   ]
  },
  {
   "cell_type": "markdown",
   "metadata": {},
   "source": [
    "In case of fixed GPS coordinates, write in the variable `gps` below in decimal degree (latitude , longitude) of your dataset (eg, `gps= (49 , -2)` ). If you have a mobile hydrophone, enter the name of the csv file containing the GPS coordinates, this filename should contain the term _gps_."
   ]
  },
  {
   "cell_type": "code",
   "execution_count": null,
   "metadata": {
    "ExecuteTime": {
     "end_time": "2024-04-23T08:33:01.124605Z",
     "start_time": "2024-04-23T08:33:01.104294Z"
    }
   },
   "outputs": [],
   "source": [
    "# FILL IN GREEN PARTS !\n",
    "list_gps = [\n",
    "    (47.89755, -4.69856666666667),\n",
    "    (47.89755, -4.69856666666667),\n",
    "    (47.8917666666667, -4.72161666666667),\n",
    "    (47.8917666666667, -4.72161666666667),\n",
    "    (48.0853666666667, -4.83871666666667),\n",
    "    (48.0853666666667, -4.83871666666667),\n",
    "    (48.0900833333333, -4.82485),\n",
    "    (48.0900833333333, -4.82485),\n",
    "    (47.9945333333333, -4.82413333333333),\n",
    "    (47.9945333333333, -4.82413333333333),\n",
    "    (48.0863333333333, -4.8401),\n",
    "    (48.0863333333333, -4.8401),\n",
    "    (48.021, -4.93675),\n",
    "    (48.021, -4.93675),\n",
    "    (47.9811, -4.84206666666667),\n",
    "    (47.9811, -4.84206666666667),\n",
    "    (48.0211, -4.919),\n",
    "    (48.0211, -4.919),\n",
    "]"
   ]
  },
  {
   "cell_type": "code",
   "execution_count": null,
   "metadata": {
    "ExecuteTime": {
     "end_time": "2024-04-23T08:34:15.663222Z",
     "start_time": "2024-04-23T08:34:15.654462Z"
    }
   },
   "outputs": [],
   "source": [
    "# FILL IN GREEN PARTS !\n",
    "list_depth = [\n",
    "    0,\n",
    "    0,\n",
    "    49,\n",
    "    49,\n",
    "    57,\n",
    "    57,\n",
    "    0,\n",
    "    0,\n",
    "    56,\n",
    "    56,\n",
    "    57,\n",
    "    57,\n",
    "    0,\n",
    "    0,\n",
    "    25,\n",
    "    25,\n",
    "    0,\n",
    "    0,\n",
    "]"
   ]
  },
  {
   "cell_type": "markdown",
   "metadata": {},
   "source": [
    "Concerning the `timezone` of your data, by default we will consider they are from UTC+00:00. If that is not the case, please use this parameter to inform it, its format MUST follow `\"+02:00\"` for UTC+02:00 for example."
   ]
  },
  {
   "cell_type": "code",
   "execution_count": null,
   "metadata": {
    "ExecuteTime": {
     "end_time": "2024-04-23T08:34:34.493715Z",
     "start_time": "2024-04-23T08:34:34.481412Z"
    }
   },
   "outputs": [],
   "source": [
    "# FILL IN RED PARTS !\n",
    "list_timezone = [\n",
    "    \"+01:00\",\n",
    "    \"+01:00\",\n",
    "    \"+01:00\",\n",
    "    \"+01:00\",\n",
    "    \"+01:00\",\n",
    "    \"+01:00\",\n",
    "    \"+01:00\",\n",
    "    \"+01:00\",\n",
    "    \"+01:00\",\n",
    "    \"+01:00\",\n",
    "    \"+01:00\",\n",
    "    \"+01:00\",\n",
    "    \"+01:00\",\n",
    "    \"+01:00\",\n",
    "    \"+01:00\",\n",
    "    \"+01:00\",\n",
    "    \"+01:00\",\n",
    "    \"+01:00\",\n",
    "]"
   ]
  },
  {
   "cell_type": "markdown",
   "metadata": {},
   "source": [
    "The variable `force_upload` allows you to upload your dataset on the platform despite detected anomalies."
   ]
  },
  {
   "cell_type": "code",
   "execution_count": null,
   "metadata": {
    "ExecuteTime": {
     "end_time": "2024-04-23T08:36:45.709201Z",
     "start_time": "2024-04-23T08:36:45.704439Z"
    }
   },
   "outputs": [],
   "source": [
    "# FILL IN RED and GREEN PARTS !\n",
    "force_upload = True\n",
    "date_template = \"%Y%m%d_%H%M%S\""
   ]
  },
  {
   "cell_type": "code",
   "execution_count": null,
   "metadata": {
    "ExecuteTime": {
     "end_time": "2024-04-23T08:38:46.071633Z",
     "start_time": "2024-04-23T08:36:49.749544Z"
    }
   },
   "outputs": [],
   "source": [
    "# FILL IN RED and GREEN PARTS !\n",
    "for dataset_name, campaign_name, gps, depth, timezone in zip(\n",
    "    list_dataset_name, list_campaign_name, list_gps, list_depth, list_timezone\n",
    "):\n",
    "    print(dataset_name)\n",
    "\n",
    "    dataset = Dataset(\n",
    "        Path(path_osmose_dataset, campaign_name, dataset_name),\n",
    "        gps_coordinates=gps,\n",
    "        depth=depth,\n",
    "        owner_group=\"gosmose\",\n",
    "        local=False,\n",
    "        timezone=timezone,\n",
    "    )\n",
    "\n",
    "    dataset.build(force_upload=force_upload, date_template=date_template)"
   ]
  }
 ],
 "metadata": {
  "kernelspec": {
   "display_name": "Python [conda env:osmose]",
   "language": "python",
   "name": "conda-env-osmose-py"
  },
  "language_info": {
   "codemirror_mode": {
    "name": "ipython",
    "version": 3
   },
   "file_extension": ".py",
   "mimetype": "text/x-python",
   "name": "python",
   "nbconvert_exporter": "python",
   "pygments_lexer": "ipython3",
   "version": "3.10.13"
  },
  "vscode": {
   "interpreter": {
    "hash": "bce92c0f8f81cdb158a63a7ee25a0fb0b2c55ab9a708ba2832e2eb9c8e94a3d1"
   }
  }
 },
 "nbformat": 4,
 "nbformat_minor": 4
}
