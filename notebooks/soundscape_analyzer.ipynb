{
 "cells": [
  {
   "cell_type": "markdown",
   "metadata": {},
   "source": [
    "# PREAMBULE\n",
    "\n",
    "- all soundscape figures computed here will first need a complete generation of your spectrograms, ie npz files should be present in subfolders in `/home/datawork-osmose/dataset/*dataset_name*/processed/welch/`, if this is not the case please use first the notebook `spectrogram_generator` ;\n",
    "- all calculations are done in your jupyter hub sessions so be sure to use sufficient computational ressources : we highly recommend to use the Jupyter lab 28CPU-115GB"
   ]
  },
  {
   "cell_type": "code",
   "execution_count": null,
   "metadata": {
    "ExecuteTime": {
     "end_time": "2024-09-05T08:38:32.409369Z",
     "start_time": "2024-09-05T08:37:55.052397Z"
    }
   },
   "outputs": [],
   "source": [
    "from OSmOSE import Spectrogram, Job_builder\n",
    "from OSmOSE.utils.core_utils import list_dataset\n",
    "from pathlib import Path\n",
    "\n",
    "path_osmose_home = Path(r\"/home/datawork-osmose/\")\n",
    "path_osmose_dataset = path_osmose_home / \"dataset\"\n",
    "\n",
    "jb = Job_builder()"
   ]
  },
  {
   "cell_type": "code",
   "execution_count": null,
   "metadata": {
    "ExecuteTime": {
     "end_time": "2024-09-05T08:38:32.769593Z",
     "start_time": "2024-09-05T08:38:32.418819Z"
    }
   },
   "outputs": [],
   "source": [
    "# FILL IN RED PARTS !\n",
    "list_dataset(path_osmose=path_osmose_dataset, project=\"\")"
   ]
  },
  {
   "cell_type": "markdown",
   "metadata": {},
   "source": [
    "If your dataset is part of a recording campaign, please provide its name with `campaign_name` ; in that case your dataset should be present in `home/datawork-osmose/dataset/{campaign_name}/{dataset_name}`. Otherwise let the default value `campaign_name = \"\"`."
   ]
  },
  {
   "cell_type": "code",
   "execution_count": null,
   "metadata": {
    "ExecuteTime": {
     "end_time": "2024-09-05T08:38:32.870943Z",
     "start_time": "2024-09-05T08:38:32.779338Z"
    }
   },
   "outputs": [],
   "source": [
    "# FILL IN RED PARTS !\n",
    "campaign_name = \"campaign/name\"\n",
    "dataset_name = \"dataset/name\"\n",
    "\n",
    "dataset = Spectrogram(\n",
    "    dataset_path=Path(path_osmose_dataset, campaign_name, dataset_name),\n",
    "    owner_group=\"gosmose\",\n",
    ")\n",
    "\n",
    "print(dataset)"
   ]
  },
  {
   "cell_type": "markdown",
   "metadata": {},
   "source": [
    "## Generate sequential soundscape figures\n",
    "\n",
    "Sequential means that your welch spectra are processed over successive time period of fixed duration defined by the variable `time_scale` in the cell below (eg, this period can be set to one week, such that one soundscape figure will be generated for each successive week). `time_scale` can be set to the following values:\n",
    "- H for hours\n",
    "- D for days \n",
    "- M for months\n",
    "- Y for years\n",
    "- set `time_scale='all'` to generate a LTAS over your entire dataset.\n",
    "\n",
    "`time_resolution` and `sample_rate` allow us to identify your welch folder which sould be located in `processed/welch/` with a folder name following `{time_resolution}_{sample_rate}`.\n",
    "\n",
    "`freq_min` (in Hz, default value 0)  and `freq_max` (in Hz, default value fs/2) are respectively minimum and maximum frequencies to pass-band filter welch spectra (only available for SPL)"
   ]
  },
  {
   "cell_type": "code",
   "execution_count": null,
   "metadata": {
    "ExecuteTime": {
     "end_time": "2024-09-05T08:38:35.034318Z",
     "start_time": "2024-09-05T08:38:32.888968Z"
    }
   },
   "outputs": [],
   "source": [
    "time_resolution = 600\n",
    "sample_rate = 1000\n",
    "time_scale = \"all\"\n",
    "\n",
    "dataset.build_SPL_filtered(\n",
    "    time_resolution=time_resolution, sample_rate=sample_rate, show_fig=True\n",
    ")\n",
    "dataset.build_LTAS(\n",
    "    time_resolution=time_resolution,\n",
    "    sample_rate=sample_rate,\n",
    "    time_scale=time_scale,\n",
    "    show_fig=True,\n",
    ")\n",
    "dataset.build_EPD(\n",
    "    time_resolution=time_resolution, sample_rate=sample_rate, show_fig=True\n",
    ")"
   ]
  }
 ],
 "metadata": {
  "kernelspec": {
   "display_name": "Python [conda env:osmose_dev_MD]",
   "language": "python",
   "name": "conda-env-osmose_dev_MD-py"
  },
  "language_info": {
   "codemirror_mode": {
    "name": "ipython",
    "version": 3
   },
   "file_extension": ".py",
   "mimetype": "text/x-python",
   "name": "python",
   "nbconvert_exporter": "python",
   "pygments_lexer": "ipython3",
   "version": "3.10.14"
  },
  "vscode": {
   "interpreter": {
    "hash": "bce92c0f8f81cdb158a63a7ee25a0fb0b2c55ab9a708ba2832e2eb9c8e94a3d1"
   }
  }
 },
 "nbformat": 4,
 "nbformat_minor": 4
}
