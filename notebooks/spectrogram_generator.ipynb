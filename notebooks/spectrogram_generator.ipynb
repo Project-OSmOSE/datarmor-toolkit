{
 "cells": [
  {
   "cell_type": "markdown",
   "metadata": {
    "ExecuteTime": {
     "end_time": "2024-07-17T09:00:38.919656Z",
     "start_time": "2024-07-17T09:00:38.916729Z"
    }
   },
   "source": [
    "# PREAMBULE\n",
    "Here are imported a few librairies to run the codes"
   ]
  },
  {
   "cell_type": "code",
   "execution_count": null,
   "metadata": {
    "ExecuteTime": {
     "end_time": "2024-09-23T11:32:46.939461Z",
     "start_time": "2024-09-23T11:32:46.929049Z"
    }
   },
   "outputs": [],
   "source": [
    "# FILL IN RED PARTS !\n",
    "import sys\n",
    "from pathlib import Path\n",
    "\n",
    "from OSmOSE import Spectrogram, Job_builder\n",
    "from OSmOSE.utils.core_utils import display_folder_storage_info, list_dataset\n",
    "\n",
    "sys.path.append(r\"../src\")\n",
    "from utils_datarmor import (\n",
    "    adjust_spectro,\n",
    "    generate_spectro,\n",
    "    display_progress,\n",
    "    monitor_job,\n",
    "    read_job,\n",
    ")\n",
    "\n",
    "path_osmose_home = Path(r\"/home/datawork-osmose/\")\n",
    "path_osmose_dataset = path_osmose_home / \"dataset\"\n",
    "\n",
    "jb = Job_builder()\n",
    "\n",
    "display_folder_storage_info(dir_path=path_osmose_home)"
   ]
  },
  {
   "cell_type": "markdown",
   "metadata": {},
   "source": [
    "`list_dataset` take as an argument the path to the datasets : `path_osmose` and the project path which is a optional argument in the case where several datasets are grouped into a single folder, leave `project = \"\"` if the dataset is directly located in `path_osmose`"
   ]
  },
  {
   "cell_type": "code",
   "execution_count": null,
   "metadata": {
    "ExecuteTime": {
     "end_time": "2024-09-23T11:32:49.512606Z",
     "start_time": "2024-09-23T11:32:49.501037Z"
    }
   },
   "outputs": [],
   "source": [
    "# FILL IN RED PARTS !\n",
    "list_dataset(path_osmose=path_osmose_dataset, project=\"\")"
   ]
  },
  {
   "cell_type": "markdown",
   "metadata": {},
   "source": [
    "## Summary\n",
    "\n",
    "**I. Select dataset** : choose your dataset to be processed and get key metadata on it\n",
    "\n",
    "**II. Configure spectrograms** : define all spectrogram parameters, and adjust them based on spectrograms computed on the fly\n",
    "\n",
    "**III. Generate spectrograms** : launch the complete generation of spectrograms"
   ]
  },
  {
   "cell_type": "markdown",
   "metadata": {},
   "source": [
    "# I. Select dataset \n",
    "\n",
    "If your dataset is part of a project, please provide its name with `project_name` ; in that case your dataset should be present in `home/datawork-osmose/dataset/{project_name}/{dataset_name}`. Otherwise let the default value `project_name = \"\"`."
   ]
  },
  {
   "cell_type": "code",
   "execution_count": null,
   "metadata": {
    "ExecuteTime": {
     "end_time": "2024-09-23T11:32:51.049865Z",
     "start_time": "2024-09-23T11:32:51.029506Z"
    }
   },
   "outputs": [],
   "source": [
    "# FILL IN RED PARTS !\n",
    "project_name = \"\"\n",
    "dataset_name = \"APOCADO_test_reshaper\"\n",
    "\n",
    "dataset = Spectrogram(\n",
    "    dataset_path=Path(path_osmose_dataset, project_name, dataset_name),\n",
    "    owner_group=\"gosmose\",\n",
    "    local=False,\n",
    ")\n",
    "\n",
    "print(dataset)"
   ]
  },
  {
   "cell_type": "markdown",
   "metadata": {},
   "source": [
    "# II. Configure spectrograms"
   ]
  },
  {
   "cell_type": "markdown",
   "metadata": {},
   "source": [
    "The two following parameters `spectro_duration` (in s) and `dataset_sr` (in Hz) will allow you to process your data using different file durations (ie segmentation) and/or sampling rate (ie resampling) parameters. `spectro_duration` is the maximal duration of the spectrogram display window.\n",
    "\n",
    "To process audio files from your original folder (ie without any segmentation and/or resampling operations), use the original audio file duration and sample rate parameters estimated at your dataset uploading (they are printed in the previous cell). "
   ]
  },
  {
   "cell_type": "code",
   "execution_count": null,
   "metadata": {
    "ExecuteTime": {
     "end_time": "2024-09-23T11:32:53.153074Z",
     "start_time": "2024-09-23T11:32:53.150064Z"
    }
   },
   "outputs": [],
   "source": [
    "# FILL IN GREEN PARTS !\n",
    "dataset.campaign = project_name\n",
    "dataset.project = project_name\n",
    "dataset.spectro_duration = 600  # seconds\n",
    "dataset.dataset_sr = 96_000  # Hz"
   ]
  },
  {
   "cell_type": "markdown",
   "metadata": {},
   "source": [
    "Then, you can set the value of `zoom_levels`, which is an integer corresponding to the number of zoom levels you want (they are used in our web-based annotation tool APLOSE).\n",
    "With `zoom_levels = 0`, your shortest spectrogram display window has a duration of `spectro_duration` seconds (that is no zoom at all) ; with `zoom_levels = 1`, a duration of `spectro_duration`/2 seconds ; with `zoom_levels = 2`, a duration of `spectro_duration`/4 seconds."
   ]
  },
  {
   "cell_type": "code",
   "execution_count": null,
   "metadata": {
    "ExecuteTime": {
     "end_time": "2024-09-23T11:32:54.968608Z",
     "start_time": "2024-09-23T11:32:54.963981Z"
    }
   },
   "outputs": [],
   "source": [
    "# FILL IN GREEN PARTS !\n",
    "dataset.zoom_level = 4"
   ]
  },
  {
   "cell_type": "markdown",
   "metadata": {},
   "source": [
    "After that, you can set the following classical spectrogram parameters : `nfft` (in samples), `winsize` (in samples), `overlap` (in \\%). **Note that with those parameters you set the resolution of your spectrogram display window with the smallest duration, obtained with the highest zoom level.**"
   ]
  },
  {
   "cell_type": "code",
   "execution_count": null,
   "metadata": {
    "ExecuteTime": {
     "end_time": "2024-09-23T11:32:55.607507Z",
     "start_time": "2024-09-23T11:32:55.604961Z"
    }
   },
   "outputs": [],
   "source": [
    "# FILL IN GREEN PARTS !\n",
    "dataset.nfft = 1_024\n",
    "dataset.window_size = 4_096\n",
    "dataset.overlap = 50"
   ]
  },
  {
   "cell_type": "markdown",
   "metadata": {},
   "source": [
    "In case of audio segmentation, you can use the following variable `audio_file_overlap` (in seconds, default value = 0) to set an overlap in seconds between two consecutive segments."
   ]
  },
  {
   "cell_type": "code",
   "execution_count": null,
   "metadata": {
    "ExecuteTime": {
     "end_time": "2024-09-23T11:32:56.310244Z",
     "start_time": "2024-09-23T11:32:56.307884Z"
    }
   },
   "outputs": [],
   "source": [
    "# FILL IN GREEN PARTS !\n",
    "dataset.audio_file_overlap = 0"
   ]
  },
  {
   "cell_type": "markdown",
   "metadata": {},
   "source": [
    "In case you do not want to concatenate your audio files, set following variable `dataset.concat` to `False` (default value = `True`). Otherwise, data will be concatenated then segmented according to `dataset.spectro_duration` parameter."
   ]
  },
  {
   "cell_type": "code",
   "execution_count": null,
   "metadata": {
    "ExecuteTime": {
     "end_time": "2024-09-23T11:32:57.911770Z",
     "start_time": "2024-09-23T11:32:57.909247Z"
    }
   },
   "outputs": [],
   "source": [
    "dataset.concat = True"
   ]
  },
  {
   "cell_type": "markdown",
   "metadata": {},
   "source": [
    "### Amplitude normalization \n",
    "\n",
    "Eventually, we also propose different modes of data/spectrogram normalization.\n",
    "\n",
    "Normalization over raw data samples with the variable `data_normalization` (default value `'none'`, i.e. no normalization) :\n",
    "- instrument-based normalization with the three parameters `sensitivity_dB` (in dB, default value = 0), `gain` (in dB, default value = 0) and `peak_voltage` (in V, default value = 1). Using default values, no normalization will be performed ;\n",
    "\n",
    "- z-score normalization over a given time period through the variable `zscore_duration`, applied directly on your raw timeseries. The possible values are:\n",
    "    - `zscore_duration = 'original'` : the audio file duration will be used as time period ;\n",
    "    - `zscore_duration = '10H'` : any time period put as a string using classical [time alias](https://pandas.pydata.org/pandas-docs/stable/user_guide/timeseries.html#timeseries-offset-aliases). This period should be higher than your file duration. \n",
    "\n",
    "Normalization over spectra with the variable `spectro_normalization` (default value `'density'`, see OSmOSEanalytics/documentation/theory_spectrogram.pdf for details) :\n",
    "- density-based normalization by setting `spectro_normalization = 'density'`\n",
    "- spectrum-based normalization by setting `spectro_normalization = 'spectrum'` \n",
    "\n",
    "In the cell below, you can also have access to the amplitude dynamics in dB throuh the parameters `dynamic_max` and `dynamic_min`, the colormap `spectro_colormap` to be used (see possible options in the [documentation](https://matplotlib.org/stable/tutorials/colors/colormaps.html)) and specify the frequency cut `HPfilter_freq_min` of a high-pass filter if needed."
   ]
  },
  {
   "cell_type": "code",
   "execution_count": null,
   "metadata": {
    "ExecuteTime": {
     "end_time": "2024-09-23T11:32:59.400811Z",
     "start_time": "2024-09-23T11:32:59.397010Z"
    }
   },
   "outputs": [],
   "source": [
    "# FILL IN GREEN and RED PARTS !\n",
    "dataset.data_normalization = \"zscore\"  # 'instrument' OR 'zscore' OR 'none'\n",
    "dataset.zscore_duration = (\n",
    "    \"original\"  # parameter for 'zscore' mode, values = time alias OR 'original'\n",
    ")\n",
    "\n",
    "dataset.sensitivity = -169.7  # parameter for 'instrument' mode\n",
    "dataset.gain_dB = 0  # parameter for 'instrument' mode\n",
    "dataset.peak_voltage = 2.5  # parameter for 'instrument' mode\n",
    "\n",
    "dataset.spectro_normalization = \"spectrum\"  # 'density' OR 'spectrum'\n",
    "dataset.spectro_colormap = \"viridis\"\n",
    "dataset.dynamic_max = 40  # dB\n",
    "dataset.dynamic_min = -40  # dB\n",
    "dataset.hp_filter_min_freq = 1  # Hz"
   ]
  },
  {
   "cell_type": "markdown",
   "metadata": {},
   "source": [
    "You can now check the size of your spectrogram resulting from those parameters"
   ]
  },
  {
   "cell_type": "code",
   "execution_count": null,
   "metadata": {
    "ExecuteTime": {
     "end_time": "2024-09-23T11:33:00.108215Z",
     "start_time": "2024-09-23T11:33:00.091591Z"
    }
   },
   "outputs": [],
   "source": [
    "# JUST RUN THIS CELL : NOTHING TO FILL IN!\n",
    "dataset.check_spectro_size()"
   ]
  },
  {
   "cell_type": "markdown",
   "metadata": {},
   "source": [
    "### Adjust spectrogram parameters\n",
    "\n",
    "In the cell below you can visualize some spectrograms computed on the fly"
   ]
  },
  {
   "cell_type": "markdown",
   "metadata": {},
   "source": [
    "- `number_adjustment_spectrograms` is the number of spectrogram examples used to adjust your parameters\n",
    "\n",
    "- You can use the variable `file_list` in the cell below to adjust your spectrogram parameters using specific files; be careful these files must be present in a `temp_adjustment_output_dir` folder computed with a random selection; put their names in this list as follows, eg `file_list = ['file1.wav','file2.wav']` otherwise set `file_list` to an empty list `[]`"
   ]
  },
  {
   "cell_type": "code",
   "execution_count": null,
   "metadata": {
    "ExecuteTime": {
     "end_time": "2024-09-19T12:43:39.478367Z",
     "start_time": "2024-09-19T12:43:39.474554Z"
    }
   },
   "outputs": [],
   "source": [
    "# FILL IN GREEN and RED PARTS !\n",
    "number_adjustment_spectrogram = 1\n",
    "file_list = []"
   ]
  },
  {
   "cell_type": "code",
   "execution_count": null,
   "metadata": {
    "ExecuteTime": {
     "end_time": "2024-09-19T12:43:41.593401Z",
     "start_time": "2024-09-19T12:43:40.145025Z"
    }
   },
   "outputs": [],
   "source": [
    "# JUST RUN THIS CELL : NOTHING TO FILL IN!\n",
    "adjust_spectro(\n",
    "    dataset=dataset,\n",
    "    number_adjustment_spectrogram=number_adjustment_spectrogram,\n",
    "    file_list=file_list,\n",
    ")"
   ]
  },
  {
   "cell_type": "markdown",
   "metadata": {},
   "source": [
    "# III. Generate spectrograms\n",
    "\n",
    "- `dataset.batch_number` indicates the number of concurrent jobs. A higher number can speed things up until a certain point. It still does not work very well.\n",
    "\n",
    "- **If you create your spectrograms for an APLOSE campaign, set** `write_datasets_csv_for_APLOSE=True` **below !**\n",
    "\n",
    "- The variable below `save_matrix` should be set to True if you want to generate the numpy matrices along your png spectrograms"
   ]
  },
  {
   "cell_type": "code",
   "execution_count": null,
   "metadata": {
    "ExecuteTime": {
     "end_time": "2024-09-23T11:33:05.737619Z",
     "start_time": "2024-09-23T11:33:05.733065Z"
    }
   },
   "outputs": [],
   "source": [
    "# FILL IN GREEN PARTS !\n",
    "dataset.batch_number = 10\n",
    "write_datasets_csv_for_aplose = False\n",
    "save_matrix = False\n",
    "save_welch = False"
   ]
  },
  {
   "cell_type": "markdown",
   "metadata": {},
   "source": [
    "You can set `datetime_begin` and `datetime_end` so that the reshaped audio files and spectrograms begin and end at specified datetimes.\n",
    "**Note that If you want to keep the original begin and end datetimes, set those variable to `None`.**"
   ]
  },
  {
   "cell_type": "code",
   "execution_count": null,
   "metadata": {
    "ExecuteTime": {
     "end_time": "2024-09-23T11:33:06.950876Z",
     "start_time": "2024-09-23T11:33:06.948385Z"
    }
   },
   "outputs": [],
   "source": [
    "datetime_begin = \"2024-02-22T03:50:00+0000\"\n",
    "datetime_end = \"2024-03-01T10:50:00+0000\""
   ]
  },
  {
   "cell_type": "markdown",
   "metadata": {},
   "source": [
    "### Segmentation\n"
   ]
  },
  {
   "cell_type": "code",
   "execution_count": null,
   "metadata": {
    "ExecuteTime": {
     "end_time": "2024-09-23T11:33:45.421706Z",
     "start_time": "2024-09-23T11:33:45.086392Z"
    }
   },
   "outputs": [],
   "source": [
    "# JUST RUN THIS CELL : NOTHING TO FILL IN!\n",
    "dataset.initialize(\n",
    "    env_name=sys.executable.replace(\"/bin/python\", \"\"),\n",
    "    force_init=False,\n",
    "    datetime_begin=datetime_begin,\n",
    "    datetime_end=datetime_end,\n",
    ")"
   ]
  },
  {
   "cell_type": "markdown",
   "metadata": {},
   "source": [
    "### Spectrogram generation"
   ]
  },
  {
   "cell_type": "code",
   "execution_count": null,
   "metadata": {
    "ExecuteTime": {
     "end_time": "2024-09-23T11:33:58.714823Z",
     "start_time": "2024-09-23T11:33:54.582482Z"
    }
   },
   "outputs": [],
   "source": [
    "# JUST RUN THIS CELL : NOTHING TO FILL IN!\n",
    "generate_spectro(\n",
    "    dataset=dataset,\n",
    "    path_osmose_dataset=path_osmose_dataset,\n",
    "    write_datasets_csv_for_aplose = write_datasets_csv_for_aplose,\n",
    "    overwrite=True,\n",
    "    save_matrix=save_matrix,\n",
    "    save_welch=save_welch,\n",
    "    datetime_begin=datetime_begin,\n",
    "    datetime_end=datetime_end,\n",
    ")"
   ]
  },
  {
   "cell_type": "markdown",
   "metadata": {},
   "source": [
    "### Track progress\n",
    "\n",
    "You can monitor the segmentation and the spectrogram generation here"
   ]
  },
  {
   "cell_type": "code",
   "execution_count": null,
   "metadata": {
    "ExecuteTime": {
     "end_time": "2024-09-23T12:12:59.738413Z",
     "start_time": "2024-09-23T12:12:59.480628Z"
    }
   },
   "outputs": [],
   "source": [
    "# JUST RUN THIS CELL : NOTHING TO FILL IN!\n",
    "display_progress(dataset, datetime_begin=datetime_begin, datetime_end=datetime_end)"
   ]
  },
  {
   "cell_type": "markdown",
   "metadata": {},
   "source": [
    "You also monitor jobs status here"
   ]
  },
  {
   "cell_type": "code",
   "execution_count": null,
   "metadata": {
    "ExecuteTime": {
     "end_time": "2024-09-23T09:46:40.074570Z",
     "start_time": "2024-09-23T09:46:39.711110Z"
    }
   },
   "outputs": [],
   "source": [
    "# JUST RUN THIS CELL : NOTHING TO FILL IN!\n",
    "monitor_job(dataset)"
   ]
  },
  {
   "cell_type": "markdown",
   "metadata": {},
   "source": [
    "You can read a specific output file here providing its name, eg `job_id = 'job1_ID'`"
   ]
  },
  {
   "cell_type": "code",
   "execution_count": null,
   "metadata": {
    "ExecuteTime": {
     "end_time": "2024-09-19T09:20:17.258876Z",
     "start_time": "2024-09-19T09:20:17.253606Z"
    }
   },
   "outputs": [],
   "source": [
    "# FILL IN RED PART !\n",
    "read_job(job_id=\"605103.datarmor0\", dataset=dataset)"
   ]
  },
  {
   "cell_type": "markdown",
   "metadata": {
    "ExecuteTime": {
     "end_time": "2024-07-17T13:06:50.699047Z",
     "start_time": "2024-07-17T13:06:50.694826Z"
    }
   },
   "source": [
    "You can also monitor the jobs in a terminal using the command `qstat -u username`"
   ]
  }
 ],
 "metadata": {
  "kernelspec": {
   "display_name": "Python 3 (ipykernel)",
   "language": "python",
   "name": "python3"
  },
  "language_info": {
   "codemirror_mode": {
    "name": "ipython",
    "version": 3
   },
   "file_extension": ".py",
   "mimetype": "text/x-python",
   "name": "python",
   "nbconvert_exporter": "python",
   "pygments_lexer": "ipython3",
   "version": "3.10.14"
  },
  "vscode": {
   "interpreter": {
    "hash": "038fb172a99c9b7ee7474e984b9ff4962ea47b0ef555bcc216ed798a8387f59b"
   }
  }
 },
 "nbformat": 4,
 "nbformat_minor": 4
}
