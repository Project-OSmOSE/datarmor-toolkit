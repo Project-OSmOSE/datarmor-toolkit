{
 "cells": [
  {
   "cell_type": "markdown",
   "metadata": {},
   "source": [
    "# Preamble\n",
    "\n",
    "This notebook should be used when your dataset has not been built because your audio files have not passed at least one test needed for its uploading on the OSmOSE platform. It also allows to perform (irreversible) file deletion operations to meet uploading criteria."
   ]
  },
  {
   "cell_type": "markdown",
   "metadata": {},
   "source": [
    "Define the names of the dataset and of the folder of audio files (by default, 'original')"
   ]
  },
  {
   "cell_type": "code",
   "metadata": {},
   "source": [
    "dataset = 'boussole_MERMAID_v2'\n",
    "audio_folder_name = 'original'"
   ],
   "outputs": [],
   "execution_count": null
  },
  {
   "cell_type": "markdown",
   "metadata": {},
   "source": [
    "Download the metadata csv file "
   ]
  },
  {
   "cell_type": "code",
   "metadata": {
    "tags": []
   },
   "source": [
    "import pandas as pd\n",
    "import matplotlib.pyplot as plt\n",
    "import numpy as np\n",
    "import os\n",
    "\n",
    "path_audio = '/home/datawork-osmose/dataset/'+dataset+'/data/audio/'+audio_folder_name+'/'\n",
    "path_file_metadata = path_audio+'file_metadata.csv'\n",
    "file_metadata = pd.read_csv(path_file_metadata)"
   ],
   "outputs": [],
   "execution_count": null
  },
  {
   "cell_type": "markdown",
   "metadata": {},
   "source": [
    "# Exploring / describing metadata"
   ]
  },
  {
   "cell_type": "code",
   "metadata": {},
   "source": [
    "file_metadata.head()"
   ],
   "outputs": [],
   "execution_count": null
  },
  {
   "cell_type": "code",
   "metadata": {},
   "source": [
    "file_metadata.describe()"
   ],
   "outputs": [],
   "execution_count": null
  },
  {
   "cell_type": "markdown",
   "metadata": {},
   "source": [
    "## Reading header"
   ]
  },
  {
   "cell_type": "code",
   "metadata": {},
   "source": [
    "print('Number of file headers that cannot be read :',sum(file_metadata['status_read_header'].values == False))"
   ],
   "outputs": [],
   "execution_count": null
  },
  {
   "cell_type": "markdown",
   "metadata": {},
   "source": [
    "## Sampling rate"
   ]
  },
  {
   "cell_type": "code",
   "metadata": {},
   "source": [
    "df_da=file_metadata['origin_sr'].value_counts().reset_index()\n",
    "df_da.columns = ['Sampling rate (Hz)', 'Counts']\n",
    "df_da['Sampling rate (Hz)'].hist()\n",
    "df_da"
   ],
   "outputs": [],
   "execution_count": null
  },
  {
   "cell_type": "markdown",
   "metadata": {},
   "source": [
    "## Duration"
   ]
  },
  {
   "cell_type": "code",
   "metadata": {},
   "source": [
    "df_da=file_metadata['duration'].value_counts().reset_index()\n",
    "df_da.columns = ['Duration(s)', 'Counts']\n",
    "df_da['Duration(s)'].hist()\n",
    "df_da"
   ],
   "outputs": [],
   "execution_count": null
  },
  {
   "cell_type": "markdown",
   "metadata": {},
   "source": [
    "# Delete audio files based on criteria metadata"
   ]
  },
  {
   "cell_type": "markdown",
   "metadata": {},
   "source": [
    "The cells below allow you to delete some audio files that would not respect certain criteria. These files are stored in the list `list_files_to_be_deleted` and the last cell below can be used to operate the deletion directly from this notebook, but be carefull this operation is irreversible!\n",
    "\n",
    "Each deletion will generate automatically a text file in your current working directory containing the list of the deleted files so you can keep track of this operation.\n",
    "\n",
    "Note that each criterion is exclusive, meaning that they should be used independently from each other. \n",
    "\n",
    "Also note that the file `'file_metadata.csv'` and the pandas variable `file_metadata` is directly updated."
   ]
  },
  {
   "cell_type": "markdown",
   "metadata": {},
   "source": [
    "## Criterion 1 : files with non-readable headers"
   ]
  },
  {
   "cell_type": "code",
   "metadata": {},
   "source": [
    "list_files_to_be_deleted = list(file_metadata[file_metadata['status_read_header'].values == False]['filename'])\n",
    "criterion = 1\n",
    "print(f'Number of files to be removed : {len(list_files_to_be_deleted)}')"
   ],
   "outputs": [],
   "execution_count": null
  },
  {
   "cell_type": "markdown",
   "metadata": {},
   "source": [
    "## Criterion 2 : files with duration under a certain value \n",
    "\n",
    "Change the value of `duration_value` (in seconds) below"
   ]
  },
  {
   "cell_type": "code",
   "metadata": {},
   "source": [
    "duration_value = 60\n",
    "\n",
    "list_files_to_be_deleted = list(file_metadata[file_metadata['duration'].values < duration_value]['filename'])\n",
    "criterion = 2\n",
    "print(f'Number of files to be removed : {len(list_files_to_be_deleted)}')"
   ],
   "outputs": [],
   "execution_count": null
  },
  {
   "cell_type": "markdown",
   "metadata": {},
   "source": [
    "## Deletion code\n",
    "\n",
    "Used carefully ! There is a \"garde-fou\" variable `DO_operation` that should be set to True to use this code "
   ]
  },
  {
   "cell_type": "code",
   "metadata": {},
   "source": [
    "DO_operation = False\n",
    "\n",
    "for file_name in list_files_to_be_deleted:\n",
    "    try:\n",
    "        if DO_operation:\n",
    "            os.remove( path_audio + file_name)\n",
    "            file_metadata.drop(file_metadata.loc[file_metadata['filename']==file_name].index, inplace=True)\n",
    "            print(f'File {file_name} removed')\n",
    "    except: \n",
    "        print(f'File {file_name} could not be removed')   \n",
    "\n",
    "if DO_operation:\n",
    "    if criterion==2:\n",
    "        textp = f\"Following files were removed based on the duration criterion with a value of {duration_value} (in seconds) : \\n\\n\"\n",
    "        fn = 'deleted_files_criterion_duration.txt'\n",
    "    elif criterion==1:\n",
    "        textp = f\"Following files were removed based on the non-readable header criterion : \\n\\n\"\n",
    "        fn = 'deleted_files_criterion_nonreadable_header.txt'\n",
    "\n",
    "    with open(fn, 'w') as f:\n",
    "        if criterion==2:\n",
    "            f.write(textp)\n",
    "        elif criterion==1:\n",
    "            f.write(f\"Following files were removed based on the non-readable header criterion : \\n\\n\")\n",
    "        for line in list_files_to_be_deleted:\n",
    "            f.write(f\"{line}\\n\")"
   ],
   "outputs": [],
   "execution_count": null
  }
 ],
 "metadata": {
  "kernelspec": {
   "display_name": "Python [conda env:osmose]",
   "language": "python",
   "name": "conda-env-osmose-py"
  },
  "language_info": {
   "codemirror_mode": {
    "name": "ipython",
    "version": 3
   },
   "file_extension": ".py",
   "mimetype": "text/x-python",
   "name": "python",
   "nbconvert_exporter": "python",
   "pygments_lexer": "ipython3",
   "version": "3.10.13"
  },
  "vscode": {
   "interpreter": {
    "hash": "038fb172a99c9b7ee7474e984b9ff4962ea47b0ef555bcc216ed798a8387f59b"
   }
  }
 },
 "nbformat": 4,
 "nbformat_minor": 4
}
