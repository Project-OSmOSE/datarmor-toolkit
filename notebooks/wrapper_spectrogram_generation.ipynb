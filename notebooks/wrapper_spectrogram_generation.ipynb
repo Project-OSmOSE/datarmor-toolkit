{
 "cells": [
  {
   "cell_type": "markdown",
   "metadata": {},
   "source": [
    "# PREAMBLE\n",
    "\n",
    "#### This notebook follows the same steps than `spectrogram_generator` but for several datasets at once\n",
    "\n",
    "Here are imported a few librairies to run the codes\n",
    "You simply have to adapt `path_osmose_home` which points to OSmOSE working directory\n"
   ]
  },
  {
   "cell_type": "code",
   "execution_count": null,
   "metadata": {
    "ExecuteTime": {
     "end_time": "2024-04-23T08:52:44.853613Z",
     "start_time": "2024-04-23T08:52:25.381427Z"
    }
   },
   "outputs": [],
   "source": [
    "# FILL IN RED PARTS !\n",
    "import os\n",
    "import sys\n",
    "from pathlib import Path\n",
    "\n",
    "from OSmOSE import Spectrogram, Job_builder\n",
    "from OSmOSE.utils.core_utils import display_folder_storage_info, list_dataset\n",
    "\n",
    "sys.path.append(r\"../src\")\n",
    "from utils_datarmor import generate_spectro, monitor_job\n",
    "\n",
    "path_osmose_home = r\"/home/datawork-osmose/\"\n",
    "path_osmose_dataset = os.path.join(path_osmose_home, \"dataset\")\n",
    "\n",
    "jb = Job_builder()\n",
    "\n",
    "display_folder_storage_info(path_osmose_home)"
   ]
  },
  {
   "cell_type": "code",
   "execution_count": null,
   "metadata": {
    "ExecuteTime": {
     "end_time": "2024-04-23T08:52:44.881155Z",
     "start_time": "2024-04-23T08:52:44.858694Z"
    }
   },
   "outputs": [],
   "source": [
    "# FILL IN RED PARTS !\n",
    "list_dataset(path_osmose_dataset, \"dataset/name\")"
   ]
  },
  {
   "cell_type": "markdown",
   "metadata": {},
   "source": [
    "# Summary\n",
    "\n",
    "**I. Select dataset** : choose your dataset to be processed and get key metadata on it\n",
    "\n",
    "**II. Configure spectrograms** : define all spectrogram parameters, and adjust them based on spectrograms computed on the fly\n",
    "\n",
    "**III. Generate spectrograms** : launch the complete generation of spectrograms"
   ]
  },
  {
   "cell_type": "markdown",
   "metadata": {
    "ExecuteTime": {
     "end_time": "2024-04-03T15:19:00.115184Z",
     "start_time": "2024-04-03T15:19:00.082218Z"
    }
   },
   "source": [
    "# I. Select dataset \n",
    "\n",
    "If your datasets are part of a recording campaign, please provide their names in the list `list_campaign_name`; in that case your dataset should be present in `{path_osmose_dataset}/{campaign_name}/{dataset_name}`. Otherwise set the default value to \"\"."
   ]
  },
  {
   "cell_type": "code",
   "execution_count": null,
   "metadata": {
    "ExecuteTime": {
     "end_time": "2024-04-23T08:52:44.904800Z",
     "start_time": "2024-04-23T08:52:44.888407Z"
    },
    "tags": []
   },
   "outputs": [],
   "source": [
    "# FILL IN RED PARTS !\n",
    "list_dataset_name = [\n",
    "    \"C5D1_ST7181\",\n",
    "    \"C5D1_ST7194\",\n",
    "    \"C5D2_ST7189\",\n",
    "    \"C5D2_ST7190\",\n",
    "    \"C5D3_ST7189\",\n",
    "    \"C5D3_ST7190\",\n",
    "    \"C5D4_ST7181\",\n",
    "    \"C5D4_ST7194\",\n",
    "    \"C5D5_ST7181\",\n",
    "    \"C5D5_ST7194\",\n",
    "    \"C5D6_ST7189\",\n",
    "    \"C5D6_ST7190\",\n",
    "    \"C5D7_ST7181\",\n",
    "    \"C5D7_ST7194\",\n",
    "    \"C5D8_ST7189\",\n",
    "    \"C5D8_ST7190\",\n",
    "    \"C5D9_ST7181\",\n",
    "    \"C5D9_ST7194\",\n",
    "]\n",
    "\n",
    "list_campaign_name = [\"APOCADO3\"] * len(list_dataset_name)"
   ]
  },
  {
   "cell_type": "markdown",
   "metadata": {},
   "source": [
    "## Metadata of one dataset\n",
    "\n",
    "Here you can display several parameters from a single dataset by selecting it with `i`"
   ]
  },
  {
   "cell_type": "code",
   "execution_count": null,
   "metadata": {
    "ExecuteTime": {
     "end_time": "2024-04-23T08:52:45.013720Z",
     "start_time": "2024-04-23T08:52:44.923115Z"
    }
   },
   "outputs": [],
   "source": [
    "# FILL IN GREEN PART !\n",
    "i = 0\n",
    "\n",
    "dataset_name = list_dataset_name[i]\n",
    "campaign_name = list_campaign_name[i]\n",
    "\n",
    "dataset = Spectrogram(\n",
    "    dataset_path=Path(path_osmose_dataset, campaign_name, dataset_name),\n",
    "    owner_group=\"gosmose\",\n",
    "    local=False,\n",
    ")\n",
    "\n",
    "print(dataset)"
   ]
  },
  {
   "cell_type": "markdown",
   "metadata": {
    "ExecuteTime": {
     "end_time": "2024-04-03T15:23:42.698860Z",
     "start_time": "2024-04-03T15:23:42.694769Z"
    }
   },
   "source": [
    "## Configure spectrograms\n",
    "\n",
    "Set your spectrogram parameters, they will be the same for all your datasets.\n",
    "\n",
    "The two following parameters `spectro_duration` (in s) and `dataset_sr` (in Hz) will allow you to process your data using different file durations (ie segmentation) and/or sampling rate (ie resampling) parameters. `spectro_duration` is the maximal duration of the spectrogram display window.\n",
    "\n",
    "To process audio files from your original folder (ie without any segmentation and/or resampling operations), use the original audio file duration and sample rate parameters estimated at your dataset uploading (they are printed in the previous cell). \n",
    "\n",
    "Then, you can set the value of `zoom_levels`, which is the number of zoom levels you want (they are used in our web-based annotation tool APLOSE). With `zoom_levels = 0`, your shortest spectrogram display window has a duration of `spectro_duration` seconds (that is no zoom at all) ; with `zoom_levels = 1`, a duration of `spectro_duration`/2 seconds ; with `zoom_levels = 2`, a duration of `spectro_duration`/4 seconds ...\n",
    "\n",
    "After that, you can set the following classical spectrogram parameters : `nfft` (in samples), `winsize` (in samples), `overlap` (in \\%). **Note that with those parameters you set the resolution of your spectrogram display window with the smallest duration, obtained with the highest zoom level.**\n",
    "\n",
    "Finally:\n",
    "- `batch_number` indicates the number of concurrent jobs. A higher number can speed things up until a certain point. It still does not work very well.\n",
    "\n",
    "- The variable below `save_matrix` should be set to True if you want to generate the numpy matrices along your png spectrograms\n",
    "\n",
    "### /!\\ These parameters will be affected to all the selected datasets /!\\"
   ]
  },
  {
   "cell_type": "code",
   "execution_count": null,
   "metadata": {
    "ExecuteTime": {
     "end_time": "2024-04-23T08:52:45.022104Z",
     "start_time": "2024-04-23T08:52:45.018279Z"
    },
    "tags": []
   },
   "outputs": [],
   "source": [
    "# FILL IN GREEN PARTS !\n",
    "spectro_duration = 10\n",
    "dataset_sr = 128000\n",
    "\n",
    "zoom_level = 0\n",
    "\n",
    "nfft = 1024\n",
    "window_size = 1024\n",
    "overlap = 20\n",
    "\n",
    "batch_number = 10\n",
    "\n",
    "save_matrix = False\n",
    "force_init = False"
   ]
  },
  {
   "cell_type": "markdown",
   "metadata": {},
   "source": [
    "#### Amplitude normalization \n",
    "\n",
    "Eventually, we also propose you different modes of data/spectrogram normalization.\n",
    "\n",
    "Normalization over raw data samples with the variable `data_normalization` (default value `'none'`, i.e. no normalization) :\n",
    "- instrument-based normalization with the three parameters `sensitivity_dB` (in dB, default value = 0), `gain` (in dB, default value = 0) and `peak_voltage` (in V, default value = 1). Using default values, no normalization will be performed ;\n",
    "\n",
    "- z-score normalization over a given time period through the variable `zscore_duration`, applied directly on your raw timeseries. The possible values are:\n",
    "    - `zscore_duration = 'original'` : the audio file duration will be used as time period ;\n",
    "    - `zscore_duration = '10H'` : any time period put as a string using classical [time alias](https://pandas.pydata.org/pandas-docs/stable/user_guide/timeseries.html#timeseries-offset-aliases). This period should be higher than your file duration. \n",
    "\n",
    "Normalization over spectra with the variable `spectro_normalization` (default value `'density'`, see OSmOSEanalytics/documentation/theory_spectrogram.pdf for details) :\n",
    "- density-based normalization by setting `spectro_normalization = 'density'`\n",
    "- spectrum-based normalization by setting `spectro_normalization = 'spectrum'` \n",
    "\n",
    "In the cell below, you can also have access to the amplitude dynamics in dB throuh the parameters `dynamic_max` and `dynamic_min`, the colormap `spectro_colormap` to be used (see possible options in the [documentation](https://matplotlib.org/stable/tutorials/colors/colormaps.html)) and specify the frequency cut `HPfilter_freq_min` of a high-pass filter if needed."
   ]
  },
  {
   "cell_type": "code",
   "execution_count": null,
   "metadata": {
    "ExecuteTime": {
     "end_time": "2024-04-23T08:52:45.068449Z",
     "start_time": "2024-04-23T08:52:45.026819Z"
    }
   },
   "outputs": [],
   "source": [
    "# FILL IN GREEN PARTS !\n",
    "list_sensitivity = [\n",
    "    -175.9,\n",
    "    -175.7,\n",
    "    -174.5,\n",
    "    -174.7,\n",
    "    -174.5,\n",
    "    -174.7,\n",
    "    -175.9,\n",
    "    -175.7,\n",
    "    -175.9,\n",
    "    -175.7,\n",
    "    -174.5,\n",
    "    -174.7,\n",
    "    -175.9,\n",
    "    -175.7,\n",
    "    -174.5,\n",
    "    -174.7,\n",
    "    -175.9,\n",
    "    -175.7,\n",
    "]\n",
    "\n",
    "list_gain_dB = [0] * len(list_sensitivity)  # parameter for 'instrument' mode\n",
    "list_peak_voltage = [2] * len(list_sensitivity)  # parameter for 'instrument' mode"
   ]
  },
  {
   "cell_type": "code",
   "execution_count": null,
   "metadata": {
    "ExecuteTime": {
     "end_time": "2024-04-23T08:52:45.116062Z",
     "start_time": "2024-04-23T08:52:45.074248Z"
    }
   },
   "outputs": [],
   "source": [
    "# FILL IN RED and GREEN PARTS !\n",
    "data_normalization_param = \"instrument\"  # 'instrument' OR 'zscore' OR 'none'\n",
    "spectro_normalization_param = \"density\"  # 'density' OR 'spectrum'\n",
    "zscore_duration = \"\"  # parameter for 'zscore' mode, values = time alias OR 'original'\n",
    "dynamic_min = 0  # dB\n",
    "dynamic_max = 120  # dB\n",
    "colormap = \"viridis\"\n",
    "hp_filter_min_freq = 1  # Hz"
   ]
  },
  {
   "cell_type": "code",
   "execution_count": null,
   "metadata": {},
   "outputs": [],
   "source": [
    "list_datetime_begin = [\n",
    "    None,\n",
    "    None,\n",
    "    None,\n",
    "    None,\n",
    "    None,\n",
    "    None,\n",
    "    None,\n",
    "    None,\n",
    "    None,\n",
    "    None,\n",
    "    None,\n",
    "    None,\n",
    "    None,\n",
    "    None,\n",
    "    None,\n",
    "    None,\n",
    "    None,\n",
    "    None,\n",
    "]\n",
    "\n",
    "list_datetime_end = [\n",
    "    None,\n",
    "    None,\n",
    "    None,\n",
    "    None,\n",
    "    None,\n",
    "    None,\n",
    "    None,\n",
    "    None,\n",
    "    None,\n",
    "    None,\n",
    "    None,\n",
    "    None,\n",
    "    None,\n",
    "    None,\n",
    "    None,\n",
    "    None,\n",
    "    None,\n",
    "    None,\n",
    "]"
   ]
  },
  {
   "cell_type": "code",
   "execution_count": null,
   "metadata": {},
   "outputs": [],
   "source": [
    "# JUST RUN THIS CELL : NOTHING TO FILL !\n",
    "\n",
    "for campaign_name, dataset_name, sensitivity, gain_dB, peak_voltage, datetime_begin, datetime_end in zip(\n",
    "    list_campaign_name,\n",
    "    list_dataset_name,\n",
    "    list_sensitivity,\n",
    "    list_gain_dB,\n",
    "    list_peak_voltage,\n",
    "    list_datetime_begin,\n",
    "    list_datetime_end,\n",
    "):\n",
    "\n",
    "    print(f\"\\n### {dataset_name}\")\n",
    "\n",
    "    dataset = Spectrogram(\n",
    "        dataset_path=Path(path_osmose_dataset, campaign_name, dataset_name),\n",
    "        owner_group=\"gosmose\",\n",
    "        local=False,\n",
    "    )\n",
    "\n",
    "    dataset.spectro_duration = spectro_duration\n",
    "    dataset.dataset_sr = dataset_sr\n",
    "    dataset.nfft = nfft\n",
    "    dataset.window_size = window_size\n",
    "    dataset.overlap = overlap\n",
    "    dataset.data_normalization = data_normalization_param\n",
    "    dataset.zscore_duration = zscore_duration\n",
    "    dataset.sensitivity = sensitivity\n",
    "    dataset.gain_dB = gain_dB\n",
    "    dataset.peak_voltage = peak_voltage\n",
    "    dataset.spectro_normalization = spectro_normalization_param\n",
    "    dataset.dynamic_max = dynamic_max\n",
    "    dataset.dynamic_min = dynamic_min\n",
    "    dataset.colormap = colormap\n",
    "    dataset.hp_filter_min_freq = hp_filter_min_freq\n",
    "    dataset.batch_number = batch_number\n",
    "\n",
    "    ## segmentation\n",
    "    dataset.initialize(\n",
    "        env_name=sys.executable.replace(\"/bin/python\", \"\"),\n",
    "        force_init=force_init,\n",
    "        datetime_begin=datetime_begin,\n",
    "        datetime_end=datetime_end,\n",
    "    )\n",
    "\n",
    "    ## spectrogram generation\n",
    "    generate_spectro(\n",
    "    dataset=dataset,\n",
    "    path_osmose_dataset=path_osmose_dataset,\n",
    "    overwrite=True,\n",
    "    save_matrix=save_matrix,\n",
    "    datetime_begin=datetime_begin,\n",
    "    datetime_end=datetime_end,\n",
    "    )"
   ]
  },
  {
   "cell_type": "markdown",
   "metadata": {},
   "source": [
    "### Track progress\n",
    "You can monitor specific jobs status put their names in this list as follows, eg `file_list = ['job1_ID','job2_ID']` or `file_list = 'job1_ID'` for a single job"
   ]
  },
  {
   "cell_type": "code",
   "execution_count": null,
   "metadata": {},
   "outputs": [],
   "source": [
    "# FILL IN RED PART !\n",
    "monitor_job([\"9893958.datarmor0\", \"9893959.datarmor0\", \"9893960.datarmor0\"])"
   ]
  }
 ],
 "metadata": {
  "kernelspec": {
   "display_name": "Python [conda env:osmose]",
   "language": "python",
   "name": "conda-env-osmose-py"
  },
  "language_info": {
   "codemirror_mode": {
    "name": "ipython",
    "version": 3
   },
   "file_extension": ".py",
   "mimetype": "text/x-python",
   "name": "python",
   "nbconvert_exporter": "python",
   "pygments_lexer": "ipython3",
   "version": "3.10.13"
  },
  "vscode": {
   "interpreter": {
    "hash": "038fb172a99c9b7ee7474e984b9ff4962ea47b0ef555bcc216ed798a8387f59b"
   }
  }
 },
 "nbformat": 4,
 "nbformat_minor": 4
}
